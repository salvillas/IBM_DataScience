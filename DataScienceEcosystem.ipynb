{
 "cells": [
  {
   "cell_type": "markdown",
   "id": "ac41f6ed-df51-4279-991e-7300fd8e42ae",
   "metadata": {},
   "source": [
    "# Data Science Tools and Ecosystem"
   ]
  },
  {
   "cell_type": "markdown",
   "id": "199ff2e4-a03d-460a-bf9e-9d98805f532e",
   "metadata": {},
   "source": [
    "In this notebook, Data Science Tools and Ecosystem are summarized."
   ]
  },
  {
   "cell_type": "markdown",
   "id": "57ad33da-88b9-48a0-a10f-8d6398301edc",
   "metadata": {},
   "source": [
    "Some of the popular languages that Data Scientists use are:\n",
    "1. Python\n",
    "2. R\n",
    "3. SQL\n",
    "4. Julia\n",
    "5. Java"
   ]
  },
  {
   "cell_type": "markdown",
   "id": "e3ce2e05-8dc9-4982-8848-89395e89039b",
   "metadata": {},
   "source": [
    "Some of the commonly used libraries used by Data Scientists include:\n",
    "1. Numpy\n",
    "2. Pandas\n",
    "3. Matplotlib\n",
    "4. dplyr\n",
    "5. ggplot2"
   ]
  },
  {
   "cell_type": "markdown",
   "id": "cc7f183a-dac2-4dad-a2c5-e650accc1dba",
   "metadata": {},
   "source": [
    "| Data Science Tools |\n",
    "| ------------------ |\n",
    "| Jupiter Notebook |\n",
    "| Visual Studio Code |\n",
    "| RStudio |"
   ]
  },
  {
   "cell_type": "markdown",
   "id": "bd1537fd-cb96-40f9-a8b0-b6f2526213e8",
   "metadata": {},
   "source": [
    "### Below are a few examples of evaluating arithmetic expressions in Python"
   ]
  },
  {
   "cell_type": "code",
   "execution_count": 1,
   "id": "8dc35364-21c1-49db-a64f-4a84a0e8b2c1",
   "metadata": {},
   "outputs": [
    {
     "data": {
      "text/plain": [
       "17"
      ]
     },
     "execution_count": 1,
     "metadata": {},
     "output_type": "execute_result"
    }
   ],
   "source": [
    "# This a simple arithmetic expression to mutiply then add integers\n",
    "(3*4)+5"
   ]
  },
  {
   "cell_type": "code",
   "execution_count": 13,
   "id": "18ae174b-881d-4b53-844a-18ed71469976",
   "metadata": {},
   "outputs": [
    {
     "name": "stdout",
     "output_type": "stream",
     "text": [
      "200 minutes correspond to 3 hours and 20 minutes.\n"
     ]
    }
   ],
   "source": [
    "# This will convert 200 minutes to hours by diving by 60\n",
    "def minutes2hours(x):\n",
    "    hours, minutes = divmod(x, 60)\n",
    "    if minutes > 0:\n",
    "        print(f\"{x} minutes correspond to {hours} hours and {minutes} minutes.\")\n",
    "    else:\n",
    "        print(f\"{x} minutes correspond to {hours} hours.\")\n",
    "minutes2hours(200)"
   ]
  },
  {
   "cell_type": "markdown",
   "id": "73eed014-44d6-4cf9-8a2c-fc0436eea440",
   "metadata": {},
   "source": [
    "**Objectives:**\n",
    "- List popular languages for Data Science.\n",
    "- Introduction to Jupiter Notebook.\n",
    "- Introduction to Git and Github."
   ]
  },
  {
   "cell_type": "markdown",
   "id": "6a298e23-78a1-438d-bbdf-d329e36dc528",
   "metadata": {},
   "source": [
    "## Author\n",
    "Salvador Torres Montilla"
   ]
  }
 ],
 "metadata": {
  "kernelspec": {
   "display_name": "Python 3 (ipykernel)",
   "language": "python",
   "name": "python3"
  },
  "language_info": {
   "codemirror_mode": {
    "name": "ipython",
    "version": 3
   },
   "file_extension": ".py",
   "mimetype": "text/x-python",
   "name": "python",
   "nbconvert_exporter": "python",
   "pygments_lexer": "ipython3",
   "version": "3.12.11"
  }
 },
 "nbformat": 4,
 "nbformat_minor": 5
}
